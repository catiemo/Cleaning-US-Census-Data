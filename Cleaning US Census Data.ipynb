{
 "cells": [
  {
   "cell_type": "markdown",
   "id": "eeb520d1",
   "metadata": {},
   "source": [
    "### Importing Packages"
   ]
  },
  {
   "cell_type": "code",
   "execution_count": 1,
   "id": "68744a7b",
   "metadata": {},
   "outputs": [],
   "source": [
    "import pandas as pd\n",
    "import numpy as np\n",
    "import matplotlib.pyplot as plt\n",
    "import glob"
   ]
  },
  {
   "cell_type": "markdown",
   "id": "223a5746",
   "metadata": {},
   "source": [
    "### Loading csv files into dataframes"
   ]
  },
  {
   "cell_type": "code",
   "execution_count": 2,
   "id": "28cf6ba9",
   "metadata": {},
   "outputs": [
    {
     "data": {
      "text/html": [
       "<div>\n",
       "<style scoped>\n",
       "    .dataframe tbody tr th:only-of-type {\n",
       "        vertical-align: middle;\n",
       "    }\n",
       "\n",
       "    .dataframe tbody tr th {\n",
       "        vertical-align: top;\n",
       "    }\n",
       "\n",
       "    .dataframe thead th {\n",
       "        text-align: right;\n",
       "    }\n",
       "</style>\n",
       "<table border=\"1\" class=\"dataframe\">\n",
       "  <thead>\n",
       "    <tr style=\"text-align: right;\">\n",
       "      <th></th>\n",
       "      <th>Unnamed: 0</th>\n",
       "      <th>State</th>\n",
       "      <th>TotalPop</th>\n",
       "      <th>Hispanic</th>\n",
       "      <th>White</th>\n",
       "      <th>Black</th>\n",
       "      <th>Native</th>\n",
       "      <th>Asian</th>\n",
       "      <th>Pacific</th>\n",
       "      <th>Income</th>\n",
       "      <th>GenderPop</th>\n",
       "    </tr>\n",
       "  </thead>\n",
       "  <tbody>\n",
       "    <tr>\n",
       "      <th>0</th>\n",
       "      <td>0</td>\n",
       "      <td>Alabama</td>\n",
       "      <td>4830620</td>\n",
       "      <td>3.7516156462584975%</td>\n",
       "      <td>61.878656462585%</td>\n",
       "      <td>31.25297619047618%</td>\n",
       "      <td>0.4532312925170065%</td>\n",
       "      <td>1.0502551020408146%</td>\n",
       "      <td>0.03435374149659865%</td>\n",
       "      <td>$43296.35860306644</td>\n",
       "      <td>2341093M_2489527F</td>\n",
       "    </tr>\n",
       "    <tr>\n",
       "      <th>1</th>\n",
       "      <td>1</td>\n",
       "      <td>Alaska</td>\n",
       "      <td>733375</td>\n",
       "      <td>5.909580838323351%</td>\n",
       "      <td>60.910179640718574%</td>\n",
       "      <td>2.8485029940119775%</td>\n",
       "      <td>16.39101796407186%</td>\n",
       "      <td>5.450299401197604%</td>\n",
       "      <td>1.0586826347305378%</td>\n",
       "      <td>$70354.74390243902</td>\n",
       "      <td>384160M_349215F</td>\n",
       "    </tr>\n",
       "    <tr>\n",
       "      <th>2</th>\n",
       "      <td>2</td>\n",
       "      <td>Arizona</td>\n",
       "      <td>6641928</td>\n",
       "      <td>29.565921052631502%</td>\n",
       "      <td>57.120000000000026%</td>\n",
       "      <td>3.8509868421052658%</td>\n",
       "      <td>4.35506578947368%</td>\n",
       "      <td>2.876578947368419%</td>\n",
       "      <td>0.16763157894736833%</td>\n",
       "      <td>$54207.82095490716</td>\n",
       "      <td>3299088M_3342840F</td>\n",
       "    </tr>\n",
       "    <tr>\n",
       "      <th>3</th>\n",
       "      <td>3</td>\n",
       "      <td>Arkansas</td>\n",
       "      <td>2958208</td>\n",
       "      <td>6.215474452554738%</td>\n",
       "      <td>71.13781021897813%</td>\n",
       "      <td>18.968759124087573%</td>\n",
       "      <td>0.5229197080291965%</td>\n",
       "      <td>1.1423357664233578%</td>\n",
       "      <td>0.14686131386861315%</td>\n",
       "      <td>$41935.63396778917</td>\n",
       "      <td>1451913M_1506295F</td>\n",
       "    </tr>\n",
       "    <tr>\n",
       "      <th>4</th>\n",
       "      <td>4</td>\n",
       "      <td>California</td>\n",
       "      <td>38421464</td>\n",
       "      <td>37.291874687968054%</td>\n",
       "      <td>40.21578881677474%</td>\n",
       "      <td>5.677396405391911%</td>\n",
       "      <td>0.40529206190713685%</td>\n",
       "      <td>13.052234148776776%</td>\n",
       "      <td>0.35141038442336353%</td>\n",
       "      <td>$67264.78230266465</td>\n",
       "      <td>19087135M_19334329F</td>\n",
       "    </tr>\n",
       "  </tbody>\n",
       "</table>\n",
       "</div>"
      ],
      "text/plain": [
       "   Unnamed: 0       State  TotalPop             Hispanic                White  \\\n",
       "0           0     Alabama   4830620  3.7516156462584975%     61.878656462585%   \n",
       "1           1      Alaska    733375   5.909580838323351%  60.910179640718574%   \n",
       "2           2     Arizona   6641928  29.565921052631502%  57.120000000000026%   \n",
       "3           3    Arkansas   2958208   6.215474452554738%   71.13781021897813%   \n",
       "4           4  California  38421464  37.291874687968054%   40.21578881677474%   \n",
       "\n",
       "                 Black                Native                Asian  \\\n",
       "0   31.25297619047618%   0.4532312925170065%  1.0502551020408146%   \n",
       "1  2.8485029940119775%    16.39101796407186%   5.450299401197604%   \n",
       "2  3.8509868421052658%     4.35506578947368%   2.876578947368419%   \n",
       "3  18.968759124087573%   0.5229197080291965%  1.1423357664233578%   \n",
       "4   5.677396405391911%  0.40529206190713685%  13.052234148776776%   \n",
       "\n",
       "                Pacific              Income            GenderPop  \n",
       "0  0.03435374149659865%  $43296.35860306644    2341093M_2489527F  \n",
       "1   1.0586826347305378%  $70354.74390243902      384160M_349215F  \n",
       "2  0.16763157894736833%  $54207.82095490716    3299088M_3342840F  \n",
       "3  0.14686131386861315%  $41935.63396778917    1451913M_1506295F  \n",
       "4  0.35141038442336353%  $67264.78230266465  19087135M_19334329F  "
      ]
     },
     "execution_count": 2,
     "metadata": {},
     "output_type": "execute_result"
    }
   ],
   "source": [
    "df_lst = []\n",
    "files = glob.glob('states*')\n",
    "for filename in files:\n",
    "    df = pd.read_csv(filename)\n",
    "    df_lst.append(df)\n",
    "\n",
    "us_census = pd.concat(df_lst).reset_index(drop = True)\n",
    "us_census.head()"
   ]
  },
  {
   "cell_type": "code",
   "execution_count": 3,
   "id": "55bff6f1",
   "metadata": {},
   "outputs": [
    {
     "name": "stdout",
     "output_type": "stream",
     "text": [
      "<class 'pandas.core.frame.DataFrame'>\n",
      "RangeIndex: 60 entries, 0 to 59\n",
      "Data columns (total 11 columns):\n",
      " #   Column      Non-Null Count  Dtype \n",
      "---  ------      --------------  ----- \n",
      " 0   Unnamed: 0  60 non-null     int64 \n",
      " 1   State       60 non-null     object\n",
      " 2   TotalPop    60 non-null     int64 \n",
      " 3   Hispanic    60 non-null     object\n",
      " 4   White       60 non-null     object\n",
      " 5   Black       60 non-null     object\n",
      " 6   Native      60 non-null     object\n",
      " 7   Asian       60 non-null     object\n",
      " 8   Pacific     55 non-null     object\n",
      " 9   Income      60 non-null     object\n",
      " 10  GenderPop   60 non-null     object\n",
      "dtypes: int64(2), object(9)\n",
      "memory usage: 5.3+ KB\n"
     ]
    }
   ],
   "source": [
    "us_census.info()"
   ]
  },
  {
   "cell_type": "markdown",
   "id": "d1e0bf1a",
   "metadata": {},
   "source": [
    "### Converting Income column to numeric dtype"
   ]
  },
  {
   "cell_type": "code",
   "execution_count": 4,
   "id": "1bdb64ac",
   "metadata": {},
   "outputs": [
    {
     "name": "stdout",
     "output_type": "stream",
     "text": [
      "<class 'pandas.core.frame.DataFrame'>\n",
      "RangeIndex: 60 entries, 0 to 59\n",
      "Data columns (total 11 columns):\n",
      " #   Column      Non-Null Count  Dtype  \n",
      "---  ------      --------------  -----  \n",
      " 0   Unnamed: 0  60 non-null     int64  \n",
      " 1   State       60 non-null     object \n",
      " 2   TotalPop    60 non-null     int64  \n",
      " 3   Hispanic    60 non-null     object \n",
      " 4   White       60 non-null     object \n",
      " 5   Black       60 non-null     object \n",
      " 6   Native      60 non-null     object \n",
      " 7   Asian       60 non-null     object \n",
      " 8   Pacific     55 non-null     object \n",
      " 9   Income      60 non-null     float64\n",
      " 10  GenderPop   60 non-null     object \n",
      "dtypes: float64(1), int64(2), object(8)\n",
      "memory usage: 5.3+ KB\n"
     ]
    }
   ],
   "source": [
    "us_census.Income = us_census.Income.replace('\\$', '', regex = True)\n",
    "us_census.Income = pd.to_numeric(us_census.Income)\n",
    "us_census.info()"
   ]
  },
  {
   "cell_type": "markdown",
   "id": "46ceefdc",
   "metadata": {},
   "source": [
    "### Separate GenerPop into two columns; Men and Women both of numeric dtype"
   ]
  },
  {
   "cell_type": "code",
   "execution_count": 5,
   "id": "c78e0e17",
   "metadata": {},
   "outputs": [
    {
     "data": {
      "text/html": [
       "<div>\n",
       "<style scoped>\n",
       "    .dataframe tbody tr th:only-of-type {\n",
       "        vertical-align: middle;\n",
       "    }\n",
       "\n",
       "    .dataframe tbody tr th {\n",
       "        vertical-align: top;\n",
       "    }\n",
       "\n",
       "    .dataframe thead th {\n",
       "        text-align: right;\n",
       "    }\n",
       "</style>\n",
       "<table border=\"1\" class=\"dataframe\">\n",
       "  <thead>\n",
       "    <tr style=\"text-align: right;\">\n",
       "      <th></th>\n",
       "      <th>Unnamed: 0</th>\n",
       "      <th>State</th>\n",
       "      <th>TotalPop</th>\n",
       "      <th>Hispanic</th>\n",
       "      <th>White</th>\n",
       "      <th>Black</th>\n",
       "      <th>Native</th>\n",
       "      <th>Asian</th>\n",
       "      <th>Pacific</th>\n",
       "      <th>Income</th>\n",
       "      <th>GenderPop</th>\n",
       "      <th>Men</th>\n",
       "      <th>Women</th>\n",
       "    </tr>\n",
       "  </thead>\n",
       "  <tbody>\n",
       "    <tr>\n",
       "      <th>0</th>\n",
       "      <td>0</td>\n",
       "      <td>Alabama</td>\n",
       "      <td>4830620</td>\n",
       "      <td>3.7516156462584975%</td>\n",
       "      <td>61.878656462585%</td>\n",
       "      <td>31.25297619047618%</td>\n",
       "      <td>0.4532312925170065%</td>\n",
       "      <td>1.0502551020408146%</td>\n",
       "      <td>0.03435374149659865%</td>\n",
       "      <td>43296.358603</td>\n",
       "      <td>2341093M_2489527F</td>\n",
       "      <td>2341093</td>\n",
       "      <td>2489527.0</td>\n",
       "    </tr>\n",
       "    <tr>\n",
       "      <th>1</th>\n",
       "      <td>1</td>\n",
       "      <td>Alaska</td>\n",
       "      <td>733375</td>\n",
       "      <td>5.909580838323351%</td>\n",
       "      <td>60.910179640718574%</td>\n",
       "      <td>2.8485029940119775%</td>\n",
       "      <td>16.39101796407186%</td>\n",
       "      <td>5.450299401197604%</td>\n",
       "      <td>1.0586826347305378%</td>\n",
       "      <td>70354.743902</td>\n",
       "      <td>384160M_349215F</td>\n",
       "      <td>384160</td>\n",
       "      <td>349215.0</td>\n",
       "    </tr>\n",
       "    <tr>\n",
       "      <th>2</th>\n",
       "      <td>2</td>\n",
       "      <td>Arizona</td>\n",
       "      <td>6641928</td>\n",
       "      <td>29.565921052631502%</td>\n",
       "      <td>57.120000000000026%</td>\n",
       "      <td>3.8509868421052658%</td>\n",
       "      <td>4.35506578947368%</td>\n",
       "      <td>2.876578947368419%</td>\n",
       "      <td>0.16763157894736833%</td>\n",
       "      <td>54207.820955</td>\n",
       "      <td>3299088M_3342840F</td>\n",
       "      <td>3299088</td>\n",
       "      <td>3342840.0</td>\n",
       "    </tr>\n",
       "    <tr>\n",
       "      <th>3</th>\n",
       "      <td>3</td>\n",
       "      <td>Arkansas</td>\n",
       "      <td>2958208</td>\n",
       "      <td>6.215474452554738%</td>\n",
       "      <td>71.13781021897813%</td>\n",
       "      <td>18.968759124087573%</td>\n",
       "      <td>0.5229197080291965%</td>\n",
       "      <td>1.1423357664233578%</td>\n",
       "      <td>0.14686131386861315%</td>\n",
       "      <td>41935.633968</td>\n",
       "      <td>1451913M_1506295F</td>\n",
       "      <td>1451913</td>\n",
       "      <td>1506295.0</td>\n",
       "    </tr>\n",
       "    <tr>\n",
       "      <th>4</th>\n",
       "      <td>4</td>\n",
       "      <td>California</td>\n",
       "      <td>38421464</td>\n",
       "      <td>37.291874687968054%</td>\n",
       "      <td>40.21578881677474%</td>\n",
       "      <td>5.677396405391911%</td>\n",
       "      <td>0.40529206190713685%</td>\n",
       "      <td>13.052234148776776%</td>\n",
       "      <td>0.35141038442336353%</td>\n",
       "      <td>67264.782303</td>\n",
       "      <td>19087135M_19334329F</td>\n",
       "      <td>19087135</td>\n",
       "      <td>19334329.0</td>\n",
       "    </tr>\n",
       "  </tbody>\n",
       "</table>\n",
       "</div>"
      ],
      "text/plain": [
       "   Unnamed: 0       State  TotalPop             Hispanic                White  \\\n",
       "0           0     Alabama   4830620  3.7516156462584975%     61.878656462585%   \n",
       "1           1      Alaska    733375   5.909580838323351%  60.910179640718574%   \n",
       "2           2     Arizona   6641928  29.565921052631502%  57.120000000000026%   \n",
       "3           3    Arkansas   2958208   6.215474452554738%   71.13781021897813%   \n",
       "4           4  California  38421464  37.291874687968054%   40.21578881677474%   \n",
       "\n",
       "                 Black                Native                Asian  \\\n",
       "0   31.25297619047618%   0.4532312925170065%  1.0502551020408146%   \n",
       "1  2.8485029940119775%    16.39101796407186%   5.450299401197604%   \n",
       "2  3.8509868421052658%     4.35506578947368%   2.876578947368419%   \n",
       "3  18.968759124087573%   0.5229197080291965%  1.1423357664233578%   \n",
       "4   5.677396405391911%  0.40529206190713685%  13.052234148776776%   \n",
       "\n",
       "                Pacific        Income            GenderPop       Men  \\\n",
       "0  0.03435374149659865%  43296.358603    2341093M_2489527F   2341093   \n",
       "1   1.0586826347305378%  70354.743902      384160M_349215F    384160   \n",
       "2  0.16763157894736833%  54207.820955    3299088M_3342840F   3299088   \n",
       "3  0.14686131386861315%  41935.633968    1451913M_1506295F   1451913   \n",
       "4  0.35141038442336353%  67264.782303  19087135M_19334329F  19087135   \n",
       "\n",
       "        Women  \n",
       "0   2489527.0  \n",
       "1    349215.0  \n",
       "2   3342840.0  \n",
       "3   1506295.0  \n",
       "4  19334329.0  "
      ]
     },
     "execution_count": 5,
     "metadata": {},
     "output_type": "execute_result"
    }
   ],
   "source": [
    "split_pop = us_census.GenderPop.str.split('_')\n",
    "us_census['Men'] = split_pop.str.get(0)\n",
    "us_census['Women'] = split_pop.str.get(1)\n",
    "\n",
    "us_census.Men = us_census.Men.str[:-1]\n",
    "us_census.Men = pd.to_numeric(us_census.Men)\n",
    "us_census.Women = us_census.Women.str[:-1]\n",
    "us_census.Women = pd.to_numeric(us_census.Women)\n",
    "us_census.head()"
   ]
  },
  {
   "cell_type": "code",
   "execution_count": 6,
   "id": "5c3490f1",
   "metadata": {},
   "outputs": [
    {
     "name": "stdout",
     "output_type": "stream",
     "text": [
      "<class 'pandas.core.frame.DataFrame'>\n",
      "RangeIndex: 60 entries, 0 to 59\n",
      "Data columns (total 13 columns):\n",
      " #   Column      Non-Null Count  Dtype  \n",
      "---  ------      --------------  -----  \n",
      " 0   Unnamed: 0  60 non-null     int64  \n",
      " 1   State       60 non-null     object \n",
      " 2   TotalPop    60 non-null     int64  \n",
      " 3   Hispanic    60 non-null     object \n",
      " 4   White       60 non-null     object \n",
      " 5   Black       60 non-null     object \n",
      " 6   Native      60 non-null     object \n",
      " 7   Asian       60 non-null     object \n",
      " 8   Pacific     55 non-null     object \n",
      " 9   Income      60 non-null     float64\n",
      " 10  GenderPop   60 non-null     object \n",
      " 11  Men         60 non-null     int64  \n",
      " 12  Women       57 non-null     float64\n",
      "dtypes: float64(2), int64(3), object(8)\n",
      "memory usage: 6.2+ KB\n"
     ]
    }
   ],
   "source": [
    "us_census.info()"
   ]
  },
  {
   "cell_type": "code",
   "execution_count": 7,
   "id": "548dcb70",
   "metadata": {},
   "outputs": [
    {
     "data": {
      "image/png": "[encoded data removed]",
      "text/plain": [
       "<Figure size 432x288 with 1 Axes>"
      ]
     },
     "metadata": {
      "needs_background": "light"
     },
     "output_type": "display_data"
    }
   ],
   "source": [
    "plt.scatter(us_census.Women, us_census.Income)\n",
    "plt.xlabel('Population of Women(Millions)')\n",
    "plt.ylabel('Income(Dollars)')\n",
    "plt.title('Income vrs Population of Women')\n",
    "plt.show()"
   ]
  },
  {
   "cell_type": "markdown",
   "id": "99a0a547",
   "metadata": {},
   "source": [
    "### Checking and filling null values in Women column"
   ]
  },
  {
   "cell_type": "code",
   "execution_count": 8,
   "id": "f2829c61",
   "metadata": {},
   "outputs": [
    {
     "data": {
      "text/plain": [
       "3"
      ]
     },
     "execution_count": 8,
     "metadata": {},
     "output_type": "execute_result"
    }
   ],
   "source": [
    "us_census.Women.isnull().sum()"
   ]
  },
  {
   "cell_type": "code",
   "execution_count": 9,
   "id": "1e94dcb7",
   "metadata": {},
   "outputs": [
    {
     "data": {
      "text/plain": [
       "0"
      ]
     },
     "execution_count": 9,
     "metadata": {},
     "output_type": "execute_result"
    }
   ],
   "source": [
    "us_census.Women = us_census.Women.fillna(value = us_census.TotalPop - us_census.Men)\n",
    "us_census.Women.isnull().sum()"
   ]
  },
  {
   "cell_type": "markdown",
   "id": "a8102191",
   "metadata": {},
   "source": [
    "### Checking and drop duplicates if any"
   ]
  },
  {
   "cell_type": "code",
   "execution_count": 10,
   "id": "164f6220",
   "metadata": {},
   "outputs": [],
   "source": [
    "us_census.duplicated()\n",
    "us_census = us_census.drop_duplicates()"
   ]
  },
  {
   "cell_type": "code",
   "execution_count": 11,
   "id": "b43e3bc8",
   "metadata": {},
   "outputs": [
    {
     "data": {
      "image/png": "[encoded data removed]",
      "text/plain": [
       "<Figure size 432x288 with 1 Axes>"
      ]
     },
     "metadata": {
      "needs_background": "light"
     },
     "output_type": "display_data"
    }
   ],
   "source": [
    "plt.scatter(us_census.Women, us_census.Income)\n",
    "plt.xlabel('Population of Women(Millions)')\n",
    "plt.ylabel('Income(Dollars)')\n",
    "plt.title('Income vrs Population of Women')\n",
    "plt.show()"
   ]
  },
  {
   "cell_type": "markdown",
   "id": "411e0752",
   "metadata": {},
   "source": [
    "### Tidying up Race columns "
   ]
  },
  {
   "cell_type": "code",
   "execution_count": 12,
   "id": "274783b1",
   "metadata": {},
   "outputs": [],
   "source": [
    "race_columns = us_census.columns[3:9]\n",
    "for race in race_columns:\n",
    "    us_census[race] = us_census[race].replace('\\%', '', regex = True)\n",
    "    us_census[race] = pd.to_numeric(us_census[race])"
   ]
  },
  {
   "cell_type": "markdown",
   "id": "dd8fea4a",
   "metadata": {},
   "source": [
    "### Checking and filling null values in Race columns"
   ]
  },
  {
   "cell_type": "code",
   "execution_count": 13,
   "id": "d928e255",
   "metadata": {},
   "outputs": [
    {
     "data": {
      "text/plain": [
       "Hispanic    False\n",
       "White       False\n",
       "Black       False\n",
       "Native      False\n",
       "Asian       False\n",
       "Pacific      True\n",
       "dtype: bool"
      ]
     },
     "execution_count": 13,
     "metadata": {},
     "output_type": "execute_result"
    }
   ],
   "source": [
    "us_census[race_columns].isna().any()"
   ]
  },
  {
   "cell_type": "code",
   "execution_count": 14,
   "id": "0e4edeb5",
   "metadata": {},
   "outputs": [
    {
     "data": {
      "text/plain": [
       "Hispanic    False\n",
       "White       False\n",
       "Black       False\n",
       "Native      False\n",
       "Asian       False\n",
       "Pacific     False\n",
       "dtype: bool"
      ]
     },
     "execution_count": 14,
     "metadata": {},
     "output_type": "execute_result"
    }
   ],
   "source": [
    "us_census.Pacific = us_census.Pacific.fillna(value = 100 - (us_census.Asian + us_census.Native + us_census.Black + us_census.White + us_census.Hispanic))\n",
    "us_census[race_columns].isna().any()"
   ]
  },
  {
   "cell_type": "markdown",
   "id": "896b5d47",
   "metadata": {},
   "source": [
    "### Histogram for Race columns"
   ]
  },
  {
   "cell_type": "code",
   "execution_count": 15,
   "id": "07dbc64e",
   "metadata": {},
   "outputs": [
    {
     "data": {
      "image/png": "[encoded data removed]",
      "text/plain": [
       "<Figure size 432x288 with 1 Axes>"
      ]
     },
     "metadata": {
      "needs_background": "light"
     },
     "output_type": "display_data"
    },
    {
     "data": {
      "image/png": "[encoded data removed]",
      "text/plain": [
       "<Figure size 432x288 with 1 Axes>"
      ]
     },
     "metadata": {
      "needs_background": "light"
     },
     "output_type": "display_data"
    },
    {
     "data": {
      "image/png": "[encoded data removed]",
      "text/plain": [
       "<Figure size 432x288 with 1 Axes>"
      ]
     },
     "metadata": {
      "needs_background": "light"
     },
     "output_type": "display_data"
    },
    {
     "data": {
      "image/png": "[encoded data removed]",
      "text/plain": [
       "<Figure size 432x288 with 1 Axes>"
      ]
     },
     "metadata": {
      "needs_background": "light"
     },
     "output_type": "display_data"
    },
    {
     "data": {
      "image/png": "[encoded data removed]",
      "text/plain": [
       "<Figure size 432x288 with 1 Axes>"
      ]
     },
     "metadata": {
      "needs_background": "light"
     },
     "output_type": "display_data"
    },
    {
     "data": {
      "image/png": "[encoded data removed]",
      "text/plain": [
       "<Figure size 432x288 with 1 Axes>"
      ]
     },
     "metadata": {
      "needs_background": "light"
     },
     "output_type": "display_data"
    },
    {
     "data": {
      "text/plain": [
       "<Figure size 432x288 with 0 Axes>"
      ]
     },
     "metadata": {},
     "output_type": "display_data"
    }
   ],
   "source": [
    "for col in us_census.columns[3:9]:\n",
    "    plt.hist(us_census[col])\n",
    "    plt.xlabel(col)\n",
    "    plt.ylabel('Counts')\n",
    "    plt.show()\n",
    "    plt.clf()"
   ]
  },
  {
   "cell_type": "code",
   "execution_count": null,
   "id": "4281d985",
   "metadata": {},
   "outputs": [],
   "source": []
  }
 ],
 "metadata": {
  "kernelspec": {
   "display_name": "Python 3",
   "language": "python",
   "name": "python3"
  },
  "language_info": {
   "codemirror_mode": {
    "name": "ipython",
    "version": 3
   },
   "file_extension": ".py",
   "mimetype": "text/x-python",
   "name": "python",
   "nbconvert_exporter": "python",
   "pygments_lexer": "ipython3",
   "version": "3.8.8"
  }
 },
 "nbformat": 4,
 "nbformat_minor": 5
}
